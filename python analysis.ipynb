{
 "cells": [
  {
   "cell_type": "code",
   "execution_count": 20,
   "metadata": {},
   "outputs": [],
   "source": [
    "import requests\n"
   ]
  },
  {
   "cell_type": "code",
   "execution_count": 21,
   "metadata": {},
   "outputs": [],
   "source": [
    "standings_url = \"https://fbref.com/en/comps/9/2023-2024/2023-2024-Premier-League-Stats\""
   ]
  },
  {
   "cell_type": "code",
   "execution_count": 22,
   "metadata": {},
   "outputs": [],
   "source": [
    "data = requests.get(standings_url)\n"
   ]
  },
  {
   "cell_type": "code",
   "execution_count": 23,
   "metadata": {},
   "outputs": [],
   "source": [
    "from bs4 import BeautifulSoup\n"
   ]
  },
  {
   "cell_type": "code",
   "execution_count": 24,
   "metadata": {},
   "outputs": [],
   "source": [
    "soup = BeautifulSoup(data.text)\n",
    "standings_table = soup.select('table.stats_table')[0]\n",
    "links = standings_table.find_all('a')\n",
    "links = [l.get(\"href\") for l in links]\n",
    "links = [l for l in links if '/squads/' in l]\n"
   ]
  },
  {
   "cell_type": "code",
   "execution_count": 25,
   "metadata": {},
   "outputs": [],
   "source": [
    "team_urls = [f\"https://fbref.com{l}\" for l in links]\n",
    "data = requests.get(team_urls[0])\n"
   ]
  },
  {
   "cell_type": "code",
   "execution_count": null,
   "metadata": {},
   "outputs": [],
   "source": [
    "import pandas as pd\n",
    "matches = pd.read_html(data.text, match= \"Scores & Fixtures\")[0]"
   ]
  },
  {
   "cell_type": "code",
   "execution_count": 27,
   "metadata": {},
   "outputs": [],
   "source": [
    "soup = BeautifulSoup(data.text)\n",
    "links = soup.find_all('a')\n",
    "links = [l.get(\"href\") for l in links]\n",
    "links = [l for l in links if l and 'all_comps/shooting/' in l]"
   ]
  },
  {
   "cell_type": "code",
   "execution_count": 28,
   "metadata": {},
   "outputs": [],
   "source": [
    "data = requests.get(f\"https://fbref.com{links[0]}\")"
   ]
  },
  {
   "cell_type": "code",
   "execution_count": null,
   "metadata": {},
   "outputs": [],
   "source": [
    "shooting = pd.read_html(data.text, match=\"Shooting\")[0]"
   ]
  },
  {
   "cell_type": "code",
   "execution_count": null,
   "metadata": {},
   "outputs": [],
   "source": [
    "shooting.head()\n"
   ]
  },
  {
   "cell_type": "code",
   "execution_count": 31,
   "metadata": {},
   "outputs": [],
   "source": [
    "shooting.columns = shooting.columns.droplevel()"
   ]
  },
  {
   "cell_type": "code",
   "execution_count": 32,
   "metadata": {},
   "outputs": [],
   "source": [
    "team_data =  matches.merge(shooting[[\"Date\",\"Sh\",\"SoT\",\"Dist\",\"FK\",\"PK\",\"PKatt\"]], on=\"Date\")"
   ]
  },
  {
   "cell_type": "code",
   "execution_count": null,
   "metadata": {},
   "outputs": [],
   "source": [
    "team_data.head()\n"
   ]
  },
  {
   "cell_type": "code",
   "execution_count": 34,
   "metadata": {},
   "outputs": [],
   "source": [
    "years = list (range(2024,2022,-1))\n",
    "all_matches = []"
   ]
  },
  {
   "cell_type": "code",
   "execution_count": 35,
   "metadata": {},
   "outputs": [],
   "source": [
    "standings_url = \"https://fbref.com/en/comps/9/2023-2024/2023-2024-Premier-League-Stats\"\n"
   ]
  },
  {
   "cell_type": "code",
   "execution_count": null,
   "metadata": {},
   "outputs": [],
   "source": [
    "import time\n",
    "for year in years:\n",
    "    data = requests.get(standings_url)\n",
    "    soup = BeautifulSoup(data.text)\n",
    "    standings_table = soup.select('table.stats_table')[0]\n",
    "\n",
    "    links = [l.get(\"href\") for l in standings_table.find_all('a')]\n",
    "    links = [l for l in links if '/squads/' in l]\n",
    "    team_urls = [f\"https://fbref.com{l}\" for l in links]\n",
    "    \n",
    "    previous_season = soup.select(\"a.prev\")[0].get(\"href\")\n",
    "    standings_url = f\"https://fbref.com{previous_season}\"\n",
    "    \n",
    "    for team_url in team_urls:\n",
    "        team_name = team_url.split(\"/\")[-1].replace(\"-Stats\", \"\").replace(\"-\", \" \")\n",
    "        data = requests.get(team_url)\n",
    "        matches = pd.read_html(data.text, match=\"Scores & Fixtures\")[0]\n",
    "\n",
    "        soup = BeautifulSoup(data.text)\n",
    "        links = [l.get(\"href\") for l in soup.find_all('a')]\n",
    "        links = [l for l in links if l and 'all_comps/shooting/' in l]\n",
    "        data = requests.get(f\"https://fbref.com{links[0]}\")\n",
    "        shooting = pd.read_html(data.text, match=\"Shooting\")[0]\n",
    "        shooting.columns = shooting.columns.droplevel()\n",
    "        try:\n",
    "            team_data = matches.merge(shooting[[\"Date\", \"Sh\", \"SoT\", \"Dist\", \"FK\", \"PK\", \"PKatt\"]], on=\"Date\")\n",
    "        except ValueError:\n",
    "            continue\n",
    "        team_data = team_data[team_data[\"Comp\"] == \"Premier League\"]\n",
    "        \n",
    "        team_data[\"Season\"] = year\n",
    "        team_data[\"Team\"] = team_name\n",
    "        \n",
    "        all_matches.append(team_data)\n",
    "        time.sleep(1)"
   ]
  },
  {
   "cell_type": "code",
   "execution_count": 1,
   "metadata": {},
   "outputs": [
    {
     "name": "stderr",
     "output_type": "stream",
     "text": [
      "/Users/november/Library/Python/3.9/lib/python/site-packages/urllib3/__init__.py:35: NotOpenSSLWarning: urllib3 v2 only supports OpenSSL 1.1.1+, currently the 'ssl' module is compiled with 'LibreSSL 2.8.3'. See: https://github.com/urllib3/urllib3/issues/3020\n",
      "  warnings.warn(\n"
     ]
    },
    {
     "name": "stdout",
     "output_type": "stream",
     "text": [
      "Scraping data for Manchester City...\n"
     ]
    },
    {
     "name": "stderr",
     "output_type": "stream",
     "text": [
      "/var/folders/bd/m8wphbrn0dgbjf_jwlvd99700000gn/T/ipykernel_3017/951203121.py:34: FutureWarning: Passing literal html to 'read_html' is deprecated and will be removed in a future version. To read from a literal string, wrap it in a 'StringIO' object.\n",
      "  matches = pd.read_html(data.text, match=\"Scores & Fixtures\")[0]\n",
      "/var/folders/bd/m8wphbrn0dgbjf_jwlvd99700000gn/T/ipykernel_3017/951203121.py:51: FutureWarning: Passing literal html to 'read_html' is deprecated and will be removed in a future version. To read from a literal string, wrap it in a 'StringIO' object.\n",
      "  shooting = pd.read_html(data.text, match=\"Shooting\")[0]\n"
     ]
    },
    {
     "name": "stdout",
     "output_type": "stream",
     "text": [
      "Scraping data for Arsenal...\n"
     ]
    },
    {
     "name": "stderr",
     "output_type": "stream",
     "text": [
      "/var/folders/bd/m8wphbrn0dgbjf_jwlvd99700000gn/T/ipykernel_3017/951203121.py:34: FutureWarning: Passing literal html to 'read_html' is deprecated and will be removed in a future version. To read from a literal string, wrap it in a 'StringIO' object.\n",
      "  matches = pd.read_html(data.text, match=\"Scores & Fixtures\")[0]\n",
      "/var/folders/bd/m8wphbrn0dgbjf_jwlvd99700000gn/T/ipykernel_3017/951203121.py:51: FutureWarning: Passing literal html to 'read_html' is deprecated and will be removed in a future version. To read from a literal string, wrap it in a 'StringIO' object.\n",
      "  shooting = pd.read_html(data.text, match=\"Shooting\")[0]\n"
     ]
    },
    {
     "name": "stdout",
     "output_type": "stream",
     "text": [
      "Scraping data for Liverpool...\n"
     ]
    },
    {
     "name": "stderr",
     "output_type": "stream",
     "text": [
      "/var/folders/bd/m8wphbrn0dgbjf_jwlvd99700000gn/T/ipykernel_3017/951203121.py:34: FutureWarning: Passing literal html to 'read_html' is deprecated and will be removed in a future version. To read from a literal string, wrap it in a 'StringIO' object.\n",
      "  matches = pd.read_html(data.text, match=\"Scores & Fixtures\")[0]\n",
      "/var/folders/bd/m8wphbrn0dgbjf_jwlvd99700000gn/T/ipykernel_3017/951203121.py:51: FutureWarning: Passing literal html to 'read_html' is deprecated and will be removed in a future version. To read from a literal string, wrap it in a 'StringIO' object.\n",
      "  shooting = pd.read_html(data.text, match=\"Shooting\")[0]\n"
     ]
    },
    {
     "name": "stdout",
     "output_type": "stream",
     "text": [
      "Scraping data for Aston Villa...\n"
     ]
    },
    {
     "name": "stderr",
     "output_type": "stream",
     "text": [
      "/var/folders/bd/m8wphbrn0dgbjf_jwlvd99700000gn/T/ipykernel_3017/951203121.py:34: FutureWarning: Passing literal html to 'read_html' is deprecated and will be removed in a future version. To read from a literal string, wrap it in a 'StringIO' object.\n",
      "  matches = pd.read_html(data.text, match=\"Scores & Fixtures\")[0]\n",
      "/var/folders/bd/m8wphbrn0dgbjf_jwlvd99700000gn/T/ipykernel_3017/951203121.py:51: FutureWarning: Passing literal html to 'read_html' is deprecated and will be removed in a future version. To read from a literal string, wrap it in a 'StringIO' object.\n",
      "  shooting = pd.read_html(data.text, match=\"Shooting\")[0]\n"
     ]
    },
    {
     "name": "stdout",
     "output_type": "stream",
     "text": [
      "Scraping data for Tottenham Hotspur...\n"
     ]
    },
    {
     "name": "stderr",
     "output_type": "stream",
     "text": [
      "/var/folders/bd/m8wphbrn0dgbjf_jwlvd99700000gn/T/ipykernel_3017/951203121.py:34: FutureWarning: Passing literal html to 'read_html' is deprecated and will be removed in a future version. To read from a literal string, wrap it in a 'StringIO' object.\n",
      "  matches = pd.read_html(data.text, match=\"Scores & Fixtures\")[0]\n",
      "/var/folders/bd/m8wphbrn0dgbjf_jwlvd99700000gn/T/ipykernel_3017/951203121.py:51: FutureWarning: Passing literal html to 'read_html' is deprecated and will be removed in a future version. To read from a literal string, wrap it in a 'StringIO' object.\n",
      "  shooting = pd.read_html(data.text, match=\"Shooting\")[0]\n"
     ]
    },
    {
     "name": "stdout",
     "output_type": "stream",
     "text": [
      "Scraping data for Chelsea...\n"
     ]
    },
    {
     "name": "stderr",
     "output_type": "stream",
     "text": [
      "/var/folders/bd/m8wphbrn0dgbjf_jwlvd99700000gn/T/ipykernel_3017/951203121.py:34: FutureWarning: Passing literal html to 'read_html' is deprecated and will be removed in a future version. To read from a literal string, wrap it in a 'StringIO' object.\n",
      "  matches = pd.read_html(data.text, match=\"Scores & Fixtures\")[0]\n",
      "/var/folders/bd/m8wphbrn0dgbjf_jwlvd99700000gn/T/ipykernel_3017/951203121.py:51: FutureWarning: Passing literal html to 'read_html' is deprecated and will be removed in a future version. To read from a literal string, wrap it in a 'StringIO' object.\n",
      "  shooting = pd.read_html(data.text, match=\"Shooting\")[0]\n"
     ]
    },
    {
     "name": "stdout",
     "output_type": "stream",
     "text": [
      "Scraping data for Newcastle United...\n"
     ]
    },
    {
     "name": "stderr",
     "output_type": "stream",
     "text": [
      "/var/folders/bd/m8wphbrn0dgbjf_jwlvd99700000gn/T/ipykernel_3017/951203121.py:34: FutureWarning: Passing literal html to 'read_html' is deprecated and will be removed in a future version. To read from a literal string, wrap it in a 'StringIO' object.\n",
      "  matches = pd.read_html(data.text, match=\"Scores & Fixtures\")[0]\n",
      "/var/folders/bd/m8wphbrn0dgbjf_jwlvd99700000gn/T/ipykernel_3017/951203121.py:51: FutureWarning: Passing literal html to 'read_html' is deprecated and will be removed in a future version. To read from a literal string, wrap it in a 'StringIO' object.\n",
      "  shooting = pd.read_html(data.text, match=\"Shooting\")[0]\n"
     ]
    },
    {
     "name": "stdout",
     "output_type": "stream",
     "text": [
      "Scraping data for Manchester United...\n"
     ]
    },
    {
     "name": "stderr",
     "output_type": "stream",
     "text": [
      "/var/folders/bd/m8wphbrn0dgbjf_jwlvd99700000gn/T/ipykernel_3017/951203121.py:34: FutureWarning: Passing literal html to 'read_html' is deprecated and will be removed in a future version. To read from a literal string, wrap it in a 'StringIO' object.\n",
      "  matches = pd.read_html(data.text, match=\"Scores & Fixtures\")[0]\n",
      "/var/folders/bd/m8wphbrn0dgbjf_jwlvd99700000gn/T/ipykernel_3017/951203121.py:51: FutureWarning: Passing literal html to 'read_html' is deprecated and will be removed in a future version. To read from a literal string, wrap it in a 'StringIO' object.\n",
      "  shooting = pd.read_html(data.text, match=\"Shooting\")[0]\n"
     ]
    },
    {
     "name": "stdout",
     "output_type": "stream",
     "text": [
      "Scraping data for West Ham United...\n"
     ]
    },
    {
     "name": "stderr",
     "output_type": "stream",
     "text": [
      "/var/folders/bd/m8wphbrn0dgbjf_jwlvd99700000gn/T/ipykernel_3017/951203121.py:34: FutureWarning: Passing literal html to 'read_html' is deprecated and will be removed in a future version. To read from a literal string, wrap it in a 'StringIO' object.\n",
      "  matches = pd.read_html(data.text, match=\"Scores & Fixtures\")[0]\n",
      "/var/folders/bd/m8wphbrn0dgbjf_jwlvd99700000gn/T/ipykernel_3017/951203121.py:51: FutureWarning: Passing literal html to 'read_html' is deprecated and will be removed in a future version. To read from a literal string, wrap it in a 'StringIO' object.\n",
      "  shooting = pd.read_html(data.text, match=\"Shooting\")[0]\n"
     ]
    },
    {
     "name": "stdout",
     "output_type": "stream",
     "text": [
      "Scraping data for Crystal Palace...\n"
     ]
    },
    {
     "name": "stderr",
     "output_type": "stream",
     "text": [
      "/var/folders/bd/m8wphbrn0dgbjf_jwlvd99700000gn/T/ipykernel_3017/951203121.py:34: FutureWarning: Passing literal html to 'read_html' is deprecated and will be removed in a future version. To read from a literal string, wrap it in a 'StringIO' object.\n",
      "  matches = pd.read_html(data.text, match=\"Scores & Fixtures\")[0]\n",
      "/var/folders/bd/m8wphbrn0dgbjf_jwlvd99700000gn/T/ipykernel_3017/951203121.py:51: FutureWarning: Passing literal html to 'read_html' is deprecated and will be removed in a future version. To read from a literal string, wrap it in a 'StringIO' object.\n",
      "  shooting = pd.read_html(data.text, match=\"Shooting\")[0]\n"
     ]
    },
    {
     "name": "stdout",
     "output_type": "stream",
     "text": [
      "Scraping data for Brighton and Hove Albion...\n"
     ]
    },
    {
     "name": "stderr",
     "output_type": "stream",
     "text": [
      "/var/folders/bd/m8wphbrn0dgbjf_jwlvd99700000gn/T/ipykernel_3017/951203121.py:34: FutureWarning: Passing literal html to 'read_html' is deprecated and will be removed in a future version. To read from a literal string, wrap it in a 'StringIO' object.\n",
      "  matches = pd.read_html(data.text, match=\"Scores & Fixtures\")[0]\n",
      "/var/folders/bd/m8wphbrn0dgbjf_jwlvd99700000gn/T/ipykernel_3017/951203121.py:51: FutureWarning: Passing literal html to 'read_html' is deprecated and will be removed in a future version. To read from a literal string, wrap it in a 'StringIO' object.\n",
      "  shooting = pd.read_html(data.text, match=\"Shooting\")[0]\n"
     ]
    },
    {
     "name": "stdout",
     "output_type": "stream",
     "text": [
      "Scraping data for Bournemouth...\n"
     ]
    },
    {
     "name": "stderr",
     "output_type": "stream",
     "text": [
      "/var/folders/bd/m8wphbrn0dgbjf_jwlvd99700000gn/T/ipykernel_3017/951203121.py:34: FutureWarning: Passing literal html to 'read_html' is deprecated and will be removed in a future version. To read from a literal string, wrap it in a 'StringIO' object.\n",
      "  matches = pd.read_html(data.text, match=\"Scores & Fixtures\")[0]\n",
      "/var/folders/bd/m8wphbrn0dgbjf_jwlvd99700000gn/T/ipykernel_3017/951203121.py:51: FutureWarning: Passing literal html to 'read_html' is deprecated and will be removed in a future version. To read from a literal string, wrap it in a 'StringIO' object.\n",
      "  shooting = pd.read_html(data.text, match=\"Shooting\")[0]\n"
     ]
    },
    {
     "name": "stdout",
     "output_type": "stream",
     "text": [
      "Scraping data for Fulham...\n"
     ]
    },
    {
     "name": "stderr",
     "output_type": "stream",
     "text": [
      "/var/folders/bd/m8wphbrn0dgbjf_jwlvd99700000gn/T/ipykernel_3017/951203121.py:34: FutureWarning: Passing literal html to 'read_html' is deprecated and will be removed in a future version. To read from a literal string, wrap it in a 'StringIO' object.\n",
      "  matches = pd.read_html(data.text, match=\"Scores & Fixtures\")[0]\n",
      "/var/folders/bd/m8wphbrn0dgbjf_jwlvd99700000gn/T/ipykernel_3017/951203121.py:51: FutureWarning: Passing literal html to 'read_html' is deprecated and will be removed in a future version. To read from a literal string, wrap it in a 'StringIO' object.\n",
      "  shooting = pd.read_html(data.text, match=\"Shooting\")[0]\n"
     ]
    },
    {
     "name": "stdout",
     "output_type": "stream",
     "text": [
      "Scraping data for Wolverhampton Wanderers...\n"
     ]
    },
    {
     "name": "stderr",
     "output_type": "stream",
     "text": [
      "/var/folders/bd/m8wphbrn0dgbjf_jwlvd99700000gn/T/ipykernel_3017/951203121.py:34: FutureWarning: Passing literal html to 'read_html' is deprecated and will be removed in a future version. To read from a literal string, wrap it in a 'StringIO' object.\n",
      "  matches = pd.read_html(data.text, match=\"Scores & Fixtures\")[0]\n",
      "/var/folders/bd/m8wphbrn0dgbjf_jwlvd99700000gn/T/ipykernel_3017/951203121.py:51: FutureWarning: Passing literal html to 'read_html' is deprecated and will be removed in a future version. To read from a literal string, wrap it in a 'StringIO' object.\n",
      "  shooting = pd.read_html(data.text, match=\"Shooting\")[0]\n"
     ]
    },
    {
     "name": "stdout",
     "output_type": "stream",
     "text": [
      "Scraping data for Everton...\n"
     ]
    },
    {
     "name": "stderr",
     "output_type": "stream",
     "text": [
      "/var/folders/bd/m8wphbrn0dgbjf_jwlvd99700000gn/T/ipykernel_3017/951203121.py:34: FutureWarning: Passing literal html to 'read_html' is deprecated and will be removed in a future version. To read from a literal string, wrap it in a 'StringIO' object.\n",
      "  matches = pd.read_html(data.text, match=\"Scores & Fixtures\")[0]\n",
      "/var/folders/bd/m8wphbrn0dgbjf_jwlvd99700000gn/T/ipykernel_3017/951203121.py:51: FutureWarning: Passing literal html to 'read_html' is deprecated and will be removed in a future version. To read from a literal string, wrap it in a 'StringIO' object.\n",
      "  shooting = pd.read_html(data.text, match=\"Shooting\")[0]\n"
     ]
    },
    {
     "name": "stdout",
     "output_type": "stream",
     "text": [
      "Scraping data for Brentford...\n"
     ]
    },
    {
     "name": "stderr",
     "output_type": "stream",
     "text": [
      "/var/folders/bd/m8wphbrn0dgbjf_jwlvd99700000gn/T/ipykernel_3017/951203121.py:34: FutureWarning: Passing literal html to 'read_html' is deprecated and will be removed in a future version. To read from a literal string, wrap it in a 'StringIO' object.\n",
      "  matches = pd.read_html(data.text, match=\"Scores & Fixtures\")[0]\n",
      "/var/folders/bd/m8wphbrn0dgbjf_jwlvd99700000gn/T/ipykernel_3017/951203121.py:51: FutureWarning: Passing literal html to 'read_html' is deprecated and will be removed in a future version. To read from a literal string, wrap it in a 'StringIO' object.\n",
      "  shooting = pd.read_html(data.text, match=\"Shooting\")[0]\n"
     ]
    },
    {
     "name": "stdout",
     "output_type": "stream",
     "text": [
      "Scraping data for Nottingham Forest...\n"
     ]
    },
    {
     "name": "stderr",
     "output_type": "stream",
     "text": [
      "/var/folders/bd/m8wphbrn0dgbjf_jwlvd99700000gn/T/ipykernel_3017/951203121.py:34: FutureWarning: Passing literal html to 'read_html' is deprecated and will be removed in a future version. To read from a literal string, wrap it in a 'StringIO' object.\n",
      "  matches = pd.read_html(data.text, match=\"Scores & Fixtures\")[0]\n",
      "/var/folders/bd/m8wphbrn0dgbjf_jwlvd99700000gn/T/ipykernel_3017/951203121.py:51: FutureWarning: Passing literal html to 'read_html' is deprecated and will be removed in a future version. To read from a literal string, wrap it in a 'StringIO' object.\n",
      "  shooting = pd.read_html(data.text, match=\"Shooting\")[0]\n"
     ]
    },
    {
     "name": "stdout",
     "output_type": "stream",
     "text": [
      "Scraping data for Luton Town...\n"
     ]
    },
    {
     "name": "stderr",
     "output_type": "stream",
     "text": [
      "/var/folders/bd/m8wphbrn0dgbjf_jwlvd99700000gn/T/ipykernel_3017/951203121.py:34: FutureWarning: Passing literal html to 'read_html' is deprecated and will be removed in a future version. To read from a literal string, wrap it in a 'StringIO' object.\n",
      "  matches = pd.read_html(data.text, match=\"Scores & Fixtures\")[0]\n",
      "/var/folders/bd/m8wphbrn0dgbjf_jwlvd99700000gn/T/ipykernel_3017/951203121.py:51: FutureWarning: Passing literal html to 'read_html' is deprecated and will be removed in a future version. To read from a literal string, wrap it in a 'StringIO' object.\n",
      "  shooting = pd.read_html(data.text, match=\"Shooting\")[0]\n"
     ]
    },
    {
     "name": "stdout",
     "output_type": "stream",
     "text": [
      "Scraping data for Burnley...\n"
     ]
    },
    {
     "name": "stderr",
     "output_type": "stream",
     "text": [
      "/var/folders/bd/m8wphbrn0dgbjf_jwlvd99700000gn/T/ipykernel_3017/951203121.py:34: FutureWarning: Passing literal html to 'read_html' is deprecated and will be removed in a future version. To read from a literal string, wrap it in a 'StringIO' object.\n",
      "  matches = pd.read_html(data.text, match=\"Scores & Fixtures\")[0]\n",
      "/var/folders/bd/m8wphbrn0dgbjf_jwlvd99700000gn/T/ipykernel_3017/951203121.py:51: FutureWarning: Passing literal html to 'read_html' is deprecated and will be removed in a future version. To read from a literal string, wrap it in a 'StringIO' object.\n",
      "  shooting = pd.read_html(data.text, match=\"Shooting\")[0]\n"
     ]
    },
    {
     "name": "stdout",
     "output_type": "stream",
     "text": [
      "Scraping data for Sheffield United...\n"
     ]
    },
    {
     "name": "stderr",
     "output_type": "stream",
     "text": [
      "/var/folders/bd/m8wphbrn0dgbjf_jwlvd99700000gn/T/ipykernel_3017/951203121.py:34: FutureWarning: Passing literal html to 'read_html' is deprecated and will be removed in a future version. To read from a literal string, wrap it in a 'StringIO' object.\n",
      "  matches = pd.read_html(data.text, match=\"Scores & Fixtures\")[0]\n",
      "/var/folders/bd/m8wphbrn0dgbjf_jwlvd99700000gn/T/ipykernel_3017/951203121.py:51: FutureWarning: Passing literal html to 'read_html' is deprecated and will be removed in a future version. To read from a literal string, wrap it in a 'StringIO' object.\n",
      "  shooting = pd.read_html(data.text, match=\"Shooting\")[0]\n"
     ]
    },
    {
     "name": "stdout",
     "output_type": "stream",
     "text": [
      "Data collection completed successfully.\n"
     ]
    }
   ],
   "source": [
    "import requests\n",
    "from bs4 import BeautifulSoup\n",
    "import pandas as pd\n",
    "import time\n",
    "\n",
    "# Only the current season URL\n",
    "standings_url = \"https://fbref.com/en/comps/9/2023-2024/2023-2024-Premier-League-Stats\"\n",
    "all_matches = []\n",
    "\n",
    "# Headers for requests to mimic a browser\n",
    "headers = {'User-Agent': 'Mozilla/5.0 (Windows NT 10.0; Win64; x64) AppleWebKit/537.36 (KHTML, like Gecko) Chrome/58.0.3029.110 Safari/537.3'}\n",
    "\n",
    "# Get the standings page HTML\n",
    "data = requests.get(standings_url, headers=headers)\n",
    "soup = BeautifulSoup(data.text, 'html.parser')\n",
    "\n",
    "# Find the first standings table\n",
    "standings_table = soup.select('table.stats_table')[0]\n",
    "\n",
    "# Extract team URLs\n",
    "links = [l.get(\"href\") for l in standings_table.find_all('a')]\n",
    "links = [l for l in links if '/squads/' in l]\n",
    "team_urls = [f\"https://fbref.com{l}\" for l in links]\n",
    "\n",
    "for team_url in team_urls:\n",
    "    team_name = team_url.split(\"/\")[-1].replace(\"-Stats\", \"\").replace(\"-\", \" \")\n",
    "    print(f\"Scraping data for {team_name}...\")\n",
    "\n",
    "    # Fetch the team page\n",
    "    data = requests.get(team_url, headers=headers)\n",
    "\n",
    "    # Extract \"Scores & Fixtures\" table\n",
    "    try:\n",
    "        matches = pd.read_html(data.text, match=\"Scores & Fixtures\")[0]\n",
    "    except ValueError:\n",
    "        print(f\"No 'Scores & Fixtures' table found for {team_name}. Skipping...\")\n",
    "        continue\n",
    "\n",
    "    # Find the link to the shooting data\n",
    "    soup = BeautifulSoup(data.text, 'html.parser')\n",
    "    links = [l.get(\"href\") for l in soup.find_all('a')]\n",
    "    links = [l for l in links if l and 'all_comps/shooting/' in l]\n",
    "\n",
    "    if not links:\n",
    "        print(f\"No 'Shooting' data found for {team_name}. Skipping...\")\n",
    "        continue\n",
    "\n",
    "    # Fetch the shooting data\n",
    "    data = requests.get(f\"https://fbref.com{links[0]}\", headers=headers)\n",
    "    try:\n",
    "        shooting = pd.read_html(data.text, match=\"Shooting\")[0]\n",
    "        shooting.columns = shooting.columns.droplevel()\n",
    "    except ValueError:\n",
    "        print(f\"No 'Shooting' table found for {team_name}. Skipping...\")\n",
    "        continue\n",
    "\n",
    "    # Merge match data with shooting data\n",
    "    try:\n",
    "        team_data = matches.merge(shooting[[\"Date\", \"Sh\", \"SoT\", \"Dist\", \"FK\", \"PK\", \"PKatt\"]], on=\"Date\")\n",
    "    except ValueError:\n",
    "        print(f\"Data merge failed for {team_name}. Skipping...\")\n",
    "        continue\n",
    "\n",
    "    # Filter for Premier League matches\n",
    "    team_data = team_data[team_data[\"Comp\"] == \"Premier League\"]\n",
    "\n",
    "    # Add season and team name to the data\n",
    "    team_data[\"Season\"] = 2024\n",
    "    team_data[\"Team\"] = team_name\n",
    "\n",
    "    # Append the data to the all_matches list\n",
    "    all_matches.append(team_data)\n",
    "\n",
    "    # Pause to avoid overloading the server\n",
    "    time.sleep(30)\n",
    "\n",
    "# After collecting all the data, concatenate the list into a DataFrame\n",
    "if all_matches:\n",
    "    final_df = pd.concat(all_matches, ignore_index=True)\n",
    "    print(\"Data collection completed successfully.\")\n",
    "else:\n",
    "    print(\"No data collected.\")\n"
   ]
  },
  {
   "cell_type": "code",
   "execution_count": 2,
   "metadata": {},
   "outputs": [
    {
     "data": {
      "text/plain": [
       "20"
      ]
     },
     "execution_count": 2,
     "metadata": {},
     "output_type": "execute_result"
    }
   ],
   "source": [
    "len(all_matches)"
   ]
  },
  {
   "cell_type": "code",
   "execution_count": 3,
   "metadata": {},
   "outputs": [],
   "source": [
    "match_df = pd.concat(all_matches)\n"
   ]
  },
  {
   "cell_type": "code",
   "execution_count": 4,
   "metadata": {},
   "outputs": [],
   "source": [
    "match_df.columns = [c.lower() for c in match_df.columns]"
   ]
  },
  {
   "cell_type": "code",
   "execution_count": 5,
   "metadata": {},
   "outputs": [
    {
     "data": {
      "text/html": [
       "<div>\n",
       "<style scoped>\n",
       "    .dataframe tbody tr th:only-of-type {\n",
       "        vertical-align: middle;\n",
       "    }\n",
       "\n",
       "    .dataframe tbody tr th {\n",
       "        vertical-align: top;\n",
       "    }\n",
       "\n",
       "    .dataframe thead th {\n",
       "        text-align: right;\n",
       "    }\n",
       "</style>\n",
       "<table border=\"1\" class=\"dataframe\">\n",
       "  <thead>\n",
       "    <tr style=\"text-align: right;\">\n",
       "      <th></th>\n",
       "      <th>date</th>\n",
       "      <th>time</th>\n",
       "      <th>comp</th>\n",
       "      <th>round</th>\n",
       "      <th>day</th>\n",
       "      <th>venue</th>\n",
       "      <th>result</th>\n",
       "      <th>gf</th>\n",
       "      <th>ga</th>\n",
       "      <th>opponent</th>\n",
       "      <th>...</th>\n",
       "      <th>match report</th>\n",
       "      <th>notes</th>\n",
       "      <th>sh</th>\n",
       "      <th>sot</th>\n",
       "      <th>dist</th>\n",
       "      <th>fk</th>\n",
       "      <th>pk</th>\n",
       "      <th>pkatt</th>\n",
       "      <th>season</th>\n",
       "      <th>team</th>\n",
       "    </tr>\n",
       "  </thead>\n",
       "  <tbody>\n",
       "    <tr>\n",
       "      <th>1</th>\n",
       "      <td>2023-08-11</td>\n",
       "      <td>20:00</td>\n",
       "      <td>Premier League</td>\n",
       "      <td>Matchweek 1</td>\n",
       "      <td>Fri</td>\n",
       "      <td>Away</td>\n",
       "      <td>W</td>\n",
       "      <td>3</td>\n",
       "      <td>0</td>\n",
       "      <td>Burnley</td>\n",
       "      <td>...</td>\n",
       "      <td>Match Report</td>\n",
       "      <td>NaN</td>\n",
       "      <td>17.0</td>\n",
       "      <td>8.0</td>\n",
       "      <td>13.9</td>\n",
       "      <td>0.0</td>\n",
       "      <td>0</td>\n",
       "      <td>0</td>\n",
       "      <td>2024</td>\n",
       "      <td>Manchester City</td>\n",
       "    </tr>\n",
       "    <tr>\n",
       "      <th>3</th>\n",
       "      <td>2023-08-19</td>\n",
       "      <td>20:00</td>\n",
       "      <td>Premier League</td>\n",
       "      <td>Matchweek 2</td>\n",
       "      <td>Sat</td>\n",
       "      <td>Home</td>\n",
       "      <td>W</td>\n",
       "      <td>1</td>\n",
       "      <td>0</td>\n",
       "      <td>Newcastle Utd</td>\n",
       "      <td>...</td>\n",
       "      <td>Match Report</td>\n",
       "      <td>NaN</td>\n",
       "      <td>14.0</td>\n",
       "      <td>4.0</td>\n",
       "      <td>17.9</td>\n",
       "      <td>0.0</td>\n",
       "      <td>0</td>\n",
       "      <td>0</td>\n",
       "      <td>2024</td>\n",
       "      <td>Manchester City</td>\n",
       "    </tr>\n",
       "    <tr>\n",
       "      <th>4</th>\n",
       "      <td>2023-08-27</td>\n",
       "      <td>14:00</td>\n",
       "      <td>Premier League</td>\n",
       "      <td>Matchweek 3</td>\n",
       "      <td>Sun</td>\n",
       "      <td>Away</td>\n",
       "      <td>W</td>\n",
       "      <td>2</td>\n",
       "      <td>1</td>\n",
       "      <td>Sheffield Utd</td>\n",
       "      <td>...</td>\n",
       "      <td>Match Report</td>\n",
       "      <td>NaN</td>\n",
       "      <td>29.0</td>\n",
       "      <td>9.0</td>\n",
       "      <td>17.3</td>\n",
       "      <td>2.0</td>\n",
       "      <td>0</td>\n",
       "      <td>1</td>\n",
       "      <td>2024</td>\n",
       "      <td>Manchester City</td>\n",
       "    </tr>\n",
       "    <tr>\n",
       "      <th>5</th>\n",
       "      <td>2023-09-02</td>\n",
       "      <td>15:00</td>\n",
       "      <td>Premier League</td>\n",
       "      <td>Matchweek 4</td>\n",
       "      <td>Sat</td>\n",
       "      <td>Home</td>\n",
       "      <td>W</td>\n",
       "      <td>5</td>\n",
       "      <td>1</td>\n",
       "      <td>Fulham</td>\n",
       "      <td>...</td>\n",
       "      <td>Match Report</td>\n",
       "      <td>NaN</td>\n",
       "      <td>6.0</td>\n",
       "      <td>4.0</td>\n",
       "      <td>14.8</td>\n",
       "      <td>0.0</td>\n",
       "      <td>1</td>\n",
       "      <td>1</td>\n",
       "      <td>2024</td>\n",
       "      <td>Manchester City</td>\n",
       "    </tr>\n",
       "    <tr>\n",
       "      <th>6</th>\n",
       "      <td>2023-09-16</td>\n",
       "      <td>15:00</td>\n",
       "      <td>Premier League</td>\n",
       "      <td>Matchweek 5</td>\n",
       "      <td>Sat</td>\n",
       "      <td>Away</td>\n",
       "      <td>W</td>\n",
       "      <td>3</td>\n",
       "      <td>1</td>\n",
       "      <td>West Ham</td>\n",
       "      <td>...</td>\n",
       "      <td>Match Report</td>\n",
       "      <td>NaN</td>\n",
       "      <td>29.0</td>\n",
       "      <td>13.0</td>\n",
       "      <td>16.4</td>\n",
       "      <td>1.0</td>\n",
       "      <td>0</td>\n",
       "      <td>0</td>\n",
       "      <td>2024</td>\n",
       "      <td>Manchester City</td>\n",
       "    </tr>\n",
       "    <tr>\n",
       "      <th>...</th>\n",
       "      <td>...</td>\n",
       "      <td>...</td>\n",
       "      <td>...</td>\n",
       "      <td>...</td>\n",
       "      <td>...</td>\n",
       "      <td>...</td>\n",
       "      <td>...</td>\n",
       "      <td>...</td>\n",
       "      <td>...</td>\n",
       "      <td>...</td>\n",
       "      <td>...</td>\n",
       "      <td>...</td>\n",
       "      <td>...</td>\n",
       "      <td>...</td>\n",
       "      <td>...</td>\n",
       "      <td>...</td>\n",
       "      <td>...</td>\n",
       "      <td>...</td>\n",
       "      <td>...</td>\n",
       "      <td>...</td>\n",
       "      <td>...</td>\n",
       "    </tr>\n",
       "    <tr>\n",
       "      <th>36</th>\n",
       "      <td>2024-04-24</td>\n",
       "      <td>20:00</td>\n",
       "      <td>Premier League</td>\n",
       "      <td>Matchweek 29</td>\n",
       "      <td>Wed</td>\n",
       "      <td>Away</td>\n",
       "      <td>L</td>\n",
       "      <td>2</td>\n",
       "      <td>4</td>\n",
       "      <td>Manchester Utd</td>\n",
       "      <td>...</td>\n",
       "      <td>Match Report</td>\n",
       "      <td>NaN</td>\n",
       "      <td>10.0</td>\n",
       "      <td>4.0</td>\n",
       "      <td>17.8</td>\n",
       "      <td>1.0</td>\n",
       "      <td>0</td>\n",
       "      <td>0</td>\n",
       "      <td>2024</td>\n",
       "      <td>Sheffield United</td>\n",
       "    </tr>\n",
       "    <tr>\n",
       "      <th>37</th>\n",
       "      <td>2024-04-27</td>\n",
       "      <td>15:00</td>\n",
       "      <td>Premier League</td>\n",
       "      <td>Matchweek 35</td>\n",
       "      <td>Sat</td>\n",
       "      <td>Away</td>\n",
       "      <td>L</td>\n",
       "      <td>1</td>\n",
       "      <td>5</td>\n",
       "      <td>Newcastle Utd</td>\n",
       "      <td>...</td>\n",
       "      <td>Match Report</td>\n",
       "      <td>NaN</td>\n",
       "      <td>15.0</td>\n",
       "      <td>4.0</td>\n",
       "      <td>13.5</td>\n",
       "      <td>0.0</td>\n",
       "      <td>0</td>\n",
       "      <td>0</td>\n",
       "      <td>2024</td>\n",
       "      <td>Sheffield United</td>\n",
       "    </tr>\n",
       "    <tr>\n",
       "      <th>38</th>\n",
       "      <td>2024-05-04</td>\n",
       "      <td>15:00</td>\n",
       "      <td>Premier League</td>\n",
       "      <td>Matchweek 36</td>\n",
       "      <td>Sat</td>\n",
       "      <td>Home</td>\n",
       "      <td>L</td>\n",
       "      <td>1</td>\n",
       "      <td>3</td>\n",
       "      <td>Nott'ham Forest</td>\n",
       "      <td>...</td>\n",
       "      <td>Match Report</td>\n",
       "      <td>NaN</td>\n",
       "      <td>16.0</td>\n",
       "      <td>4.0</td>\n",
       "      <td>18.0</td>\n",
       "      <td>0.0</td>\n",
       "      <td>1</td>\n",
       "      <td>1</td>\n",
       "      <td>2024</td>\n",
       "      <td>Sheffield United</td>\n",
       "    </tr>\n",
       "    <tr>\n",
       "      <th>39</th>\n",
       "      <td>2024-05-11</td>\n",
       "      <td>15:00</td>\n",
       "      <td>Premier League</td>\n",
       "      <td>Matchweek 37</td>\n",
       "      <td>Sat</td>\n",
       "      <td>Away</td>\n",
       "      <td>L</td>\n",
       "      <td>0</td>\n",
       "      <td>1</td>\n",
       "      <td>Everton</td>\n",
       "      <td>...</td>\n",
       "      <td>Match Report</td>\n",
       "      <td>NaN</td>\n",
       "      <td>13.0</td>\n",
       "      <td>1.0</td>\n",
       "      <td>21.0</td>\n",
       "      <td>0.0</td>\n",
       "      <td>0</td>\n",
       "      <td>0</td>\n",
       "      <td>2024</td>\n",
       "      <td>Sheffield United</td>\n",
       "    </tr>\n",
       "    <tr>\n",
       "      <th>40</th>\n",
       "      <td>2024-05-19</td>\n",
       "      <td>16:00</td>\n",
       "      <td>Premier League</td>\n",
       "      <td>Matchweek 38</td>\n",
       "      <td>Sun</td>\n",
       "      <td>Home</td>\n",
       "      <td>L</td>\n",
       "      <td>0</td>\n",
       "      <td>3</td>\n",
       "      <td>Tottenham</td>\n",
       "      <td>...</td>\n",
       "      <td>Match Report</td>\n",
       "      <td>NaN</td>\n",
       "      <td>6.0</td>\n",
       "      <td>1.0</td>\n",
       "      <td>18.0</td>\n",
       "      <td>1.0</td>\n",
       "      <td>0</td>\n",
       "      <td>0</td>\n",
       "      <td>2024</td>\n",
       "      <td>Sheffield United</td>\n",
       "    </tr>\n",
       "  </tbody>\n",
       "</table>\n",
       "<p>760 rows × 28 columns</p>\n",
       "</div>"
      ],
      "text/plain": [
       "          date   time            comp         round  day venue result gf ga  \\\n",
       "1   2023-08-11  20:00  Premier League   Matchweek 1  Fri  Away      W  3  0   \n",
       "3   2023-08-19  20:00  Premier League   Matchweek 2  Sat  Home      W  1  0   \n",
       "4   2023-08-27  14:00  Premier League   Matchweek 3  Sun  Away      W  2  1   \n",
       "5   2023-09-02  15:00  Premier League   Matchweek 4  Sat  Home      W  5  1   \n",
       "6   2023-09-16  15:00  Premier League   Matchweek 5  Sat  Away      W  3  1   \n",
       "..         ...    ...             ...           ...  ...   ...    ... .. ..   \n",
       "36  2024-04-24  20:00  Premier League  Matchweek 29  Wed  Away      L  2  4   \n",
       "37  2024-04-27  15:00  Premier League  Matchweek 35  Sat  Away      L  1  5   \n",
       "38  2024-05-04  15:00  Premier League  Matchweek 36  Sat  Home      L  1  3   \n",
       "39  2024-05-11  15:00  Premier League  Matchweek 37  Sat  Away      L  0  1   \n",
       "40  2024-05-19  16:00  Premier League  Matchweek 38  Sun  Home      L  0  3   \n",
       "\n",
       "           opponent  ...  match report  notes    sh   sot  dist   fk pk pkatt  \\\n",
       "1           Burnley  ...  Match Report    NaN  17.0   8.0  13.9  0.0  0     0   \n",
       "3     Newcastle Utd  ...  Match Report    NaN  14.0   4.0  17.9  0.0  0     0   \n",
       "4     Sheffield Utd  ...  Match Report    NaN  29.0   9.0  17.3  2.0  0     1   \n",
       "5            Fulham  ...  Match Report    NaN   6.0   4.0  14.8  0.0  1     1   \n",
       "6          West Ham  ...  Match Report    NaN  29.0  13.0  16.4  1.0  0     0   \n",
       "..              ...  ...           ...    ...   ...   ...   ...  ... ..   ...   \n",
       "36   Manchester Utd  ...  Match Report    NaN  10.0   4.0  17.8  1.0  0     0   \n",
       "37    Newcastle Utd  ...  Match Report    NaN  15.0   4.0  13.5  0.0  0     0   \n",
       "38  Nott'ham Forest  ...  Match Report    NaN  16.0   4.0  18.0  0.0  1     1   \n",
       "39          Everton  ...  Match Report    NaN  13.0   1.0  21.0  0.0  0     0   \n",
       "40        Tottenham  ...  Match Report    NaN   6.0   1.0  18.0  1.0  0     0   \n",
       "\n",
       "   season              team  \n",
       "1    2024   Manchester City  \n",
       "3    2024   Manchester City  \n",
       "4    2024   Manchester City  \n",
       "5    2024   Manchester City  \n",
       "6    2024   Manchester City  \n",
       "..    ...               ...  \n",
       "36   2024  Sheffield United  \n",
       "37   2024  Sheffield United  \n",
       "38   2024  Sheffield United  \n",
       "39   2024  Sheffield United  \n",
       "40   2024  Sheffield United  \n",
       "\n",
       "[760 rows x 28 columns]"
      ]
     },
     "execution_count": 5,
     "metadata": {},
     "output_type": "execute_result"
    }
   ],
   "source": [
    "match_df"
   ]
  },
  {
   "cell_type": "code",
   "execution_count": 6,
   "metadata": {},
   "outputs": [],
   "source": [
    "match_df.to_csv(\"matches.csv\")"
   ]
  }
 ],
 "metadata": {
  "kernelspec": {
   "display_name": "Python 3",
   "language": "python",
   "name": "python3"
  },
  "language_info": {
   "codemirror_mode": {
    "name": "ipython",
    "version": 3
   },
   "file_extension": ".py",
   "mimetype": "text/x-python",
   "name": "python",
   "nbconvert_exporter": "python",
   "pygments_lexer": "ipython3",
   "version": "3.9.6"
  }
 },
 "nbformat": 4,
 "nbformat_minor": 2
}
